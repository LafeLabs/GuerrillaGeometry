{
 "cells": [
  {
   "cell_type": "code",
   "execution_count": 1,
   "metadata": {
    "collapsed": true
   },
   "outputs": [],
   "source": [
    "%matplotlib inline\n",
    "from pylab import *"
   ]
  },
  {
   "cell_type": "code",
   "execution_count": 8,
   "metadata": {
    "collapsed": false
   },
   "outputs": [
    {
     "name": "stdout",
     "output_type": "stream",
     "text": [
      "1.0\n",
      "0.707106781187\n",
      "0.5\n",
      "0.353553390593\n",
      "0.25\n",
      "0.176776695297\n",
      "0.125\n",
      "0.0883883476483\n",
      "0.0625\n",
      "0.0441941738242\n"
     ]
    }
   ],
   "source": [
    "for index in range(10):\n",
    "    print(sqrt(2)**-index)"
   ]
  },
  {
   "cell_type": "code",
   "execution_count": 20,
   "metadata": {
    "collapsed": false
   },
   "outputs": [
    {
     "name": "stdout",
     "output_type": "stream",
     "text": [
      "nan\n",
      "-0.0066669777909\n",
      "-0.0266716452844\n",
      "-0.0600252095692\n",
      "-0.106746364893\n",
      "-0.166861316348\n",
      "-0.24040381311\n",
      "-0.327415191304\n",
      "-0.427944426593\n",
      "-0.542048196623\n",
      "-0.669790953447\n",
      "-0.811245006126\n",
      "-0.96649061367\n",
      "-1.13561608856\n"
     ]
    },
    {
     "name": "stderr",
     "output_type": "stream",
     "text": [
      "/Users/lafespietz/anaconda/lib/python2.7/site-packages/ipykernel/__main__.py:2: RuntimeWarning: invalid value encountered in double_scalars\n",
      "  from ipykernel import kernelapp as app\n"
     ]
    }
   ],
   "source": [
    "for x in arange(0,pi/12,0.02):\n",
    "    print(100*(sin(x) - x)/sin(x))"
   ]
  },
  {
   "cell_type": "code",
   "execution_count": null,
   "metadata": {
    "collapsed": true
   },
   "outputs": [],
   "source": []
  }
 ],
 "metadata": {
  "kernelspec": {
   "display_name": "Python 2",
   "language": "python",
   "name": "python2"
  },
  "language_info": {
   "codemirror_mode": {
    "name": "ipython",
    "version": 2
   },
   "file_extension": ".py",
   "mimetype": "text/x-python",
   "name": "python",
   "nbconvert_exporter": "python",
   "pygments_lexer": "ipython2",
   "version": "2.7.10"
  }
 },
 "nbformat": 4,
 "nbformat_minor": 0
}
